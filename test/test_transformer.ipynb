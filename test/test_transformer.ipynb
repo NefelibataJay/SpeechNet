{
 "cells": [
  {
   "cell_type": "code",
   "execution_count": 20,
   "metadata": {
    "collapsed": true,
    "ExecuteTime": {
     "end_time": "2023-06-03T06:25:01.929339500Z",
     "start_time": "2023-06-03T06:25:01.904172100Z"
    }
   },
   "outputs": [],
   "source": [
    "import os\n",
    "from os.path import exists\n",
    "import torch\n",
    "import torch.nn as nn\n",
    "from torch.nn.functional import log_softmax, pad\n",
    "import math\n",
    "import copy\n",
    "import time\n",
    "from torch.optim.lr_scheduler import LambdaLR\n",
    "import pandas as pd\n",
    "import altair as alt\n",
    "from torchtext.data.functional import to_map_style_dataset\n",
    "from torch.utils.data import DataLoader\n",
    "from torchtext.vocab import build_vocab_from_iterator\n",
    "import torchtext.datasets as datasets\n",
    "import warnings\n",
    "from torch.utils.data.distributed import DistributedSampler\n",
    "import torch.distributed as dist\n",
    "import torch.multiprocessing as mp\n",
    "from torch.nn.parallel import DistributedDataParallel as DDP\n",
    "import numpy as np\n",
    "\n",
    "\n",
    "# Set to False to skip notebook execution (e.g. for debugging)\n",
    "warnings.filterwarnings(\"ignore\")\n",
    "RUN_EXAMPLES = True"
   ]
  },
  {
   "cell_type": "code",
   "execution_count": 4,
   "outputs": [],
   "source": [
    "def is_interactive_notebook():\n",
    "    return __name__ == \"__main__\"\n",
    "\n",
    "\n",
    "def show_example(fn, args=[]):\n",
    "    if __name__ == \"__main__\" and RUN_EXAMPLES:\n",
    "        return fn(*args)\n",
    "\n",
    "\n",
    "def execute_example(fn, args=[]):\n",
    "    if __name__ == \"__main__\" and RUN_EXAMPLES:\n",
    "        fn(*args)\n",
    "\n",
    "\n",
    "class DummyOptimizer(torch.optim.Optimizer):\n",
    "    def __init__(self):\n",
    "        self.param_groups = [{\"lr\": 0}]\n",
    "        None\n",
    "\n",
    "    def step(self):\n",
    "        None\n",
    "\n",
    "    def zero_grad(self, set_to_none=False):\n",
    "        None\n",
    "\n",
    "\n",
    "class DummyScheduler:\n",
    "    def step(self):\n",
    "        None"
   ],
   "metadata": {
    "collapsed": false,
    "ExecuteTime": {
     "end_time": "2023-06-03T03:57:00.005989900Z",
     "start_time": "2023-06-03T03:56:59.992979900Z"
    }
   }
  },
  {
   "cell_type": "code",
   "execution_count": 16,
   "outputs": [],
   "source": [
    "\n",
    "def subsequent_mask(size):\n",
    "    \"Mask out subsequent positions.\"\n",
    "    attn_shape = (1, size, size)\n",
    "    subsequent_mask = torch.triu(torch.ones(attn_shape), diagonal=1).type(\n",
    "        torch.uint8\n",
    "    )\n",
    "    return subsequent_mask == 0\n",
    "\n",
    "def get_attn_subsequent_mask(size):\n",
    "    attn_shape = [1, size, size]\n",
    "    subsequent_mask = torch.triu(torch.ones(attn_shape), diagonal=1)\n",
    "\n",
    "    return subsequent_mask"
   ],
   "metadata": {
    "collapsed": false,
    "ExecuteTime": {
     "end_time": "2023-06-03T06:04:38.964278200Z",
     "start_time": "2023-06-03T06:04:38.946689300Z"
    }
   }
  },
  {
   "cell_type": "code",
   "execution_count": 18,
   "outputs": [
    {
     "data": {
      "text/html": "\n<style>\n  #altair-viz-8f02aa787675442d99cb8a1ca4add632.vega-embed {\n    width: 100%;\n    display: flex;\n  }\n\n  #altair-viz-8f02aa787675442d99cb8a1ca4add632.vega-embed details,\n  #altair-viz-8f02aa787675442d99cb8a1ca4add632.vega-embed details summary {\n    position: relative;\n  }\n</style>\n<div id=\"altair-viz-8f02aa787675442d99cb8a1ca4add632\"></div>\n<script type=\"text/javascript\">\n  var VEGA_DEBUG = (typeof VEGA_DEBUG == \"undefined\") ? {} : VEGA_DEBUG;\n  (function(spec, embedOpt){\n    let outputDiv = document.currentScript.previousElementSibling;\n    if (outputDiv.id !== \"altair-viz-8f02aa787675442d99cb8a1ca4add632\") {\n      outputDiv = document.getElementById(\"altair-viz-8f02aa787675442d99cb8a1ca4add632\");\n    }\n    const paths = {\n      \"vega\": \"https://cdn.jsdelivr.net/npm/vega@5?noext\",\n      \"vega-lib\": \"https://cdn.jsdelivr.net/npm/vega-lib?noext\",\n      \"vega-lite\": \"https://cdn.jsdelivr.net/npm/vega-lite@5.8.0?noext\",\n      \"vega-embed\": \"https://cdn.jsdelivr.net/npm/vega-embed@6?noext\",\n    };\n\n    function maybeLoadScript(lib, version) {\n      var key = `${lib.replace(\"-\", \"\")}_version`;\n      return (VEGA_DEBUG[key] == version) ?\n        Promise.resolve(paths[lib]) :\n        new Promise(function(resolve, reject) {\n          var s = document.createElement('script');\n          document.getElementsByTagName(\"head\")[0].appendChild(s);\n          s.async = true;\n          s.onload = () => {\n            VEGA_DEBUG[key] = version;\n            return resolve(paths[lib]);\n          };\n          s.onerror = () => reject(`Error loading script: ${paths[lib]}`);\n          s.src = paths[lib];\n        });\n    }\n\n    function showError(err) {\n      outputDiv.innerHTML = `<div class=\"error\" style=\"color:red;\">${err}</div>`;\n      throw err;\n    }\n\n    function displayChart(vegaEmbed) {\n      vegaEmbed(outputDiv, spec, embedOpt)\n        .catch(err => showError(`Javascript Error: ${err.message}<br>This usually means there's a typo in your chart specification. See the javascript console for the full traceback.`));\n    }\n\n    if(typeof define === \"function\" && define.amd) {\n      requirejs.config({paths});\n      require([\"vega-embed\"], displayChart, err => showError(`Error loading script: ${err.message}`));\n    } else {\n      maybeLoadScript(\"vega\", \"5\")\n        .then(() => maybeLoadScript(\"vega-lite\", \"5.8.0\"))\n        .then(() => maybeLoadScript(\"vega-embed\", \"6\"))\n        .catch(showError)\n        .then(() => displayChart(vegaEmbed));\n    }\n  })({\"config\": {\"view\": {\"continuousWidth\": 300, \"continuousHeight\": 300}}, \"data\": {\"name\": \"data-fc9a88d0b43c924c3f32cbceee1ff195\"}, \"mark\": {\"type\": \"rect\"}, \"encoding\": {\"color\": {\"field\": \"Subsequent Mask\", \"scale\": {\"scheme\": \"viridis\"}, \"type\": \"quantitative\"}, \"x\": {\"field\": \"Window\", \"type\": \"ordinal\"}, \"y\": {\"field\": \"Masking\", \"type\": \"ordinal\"}}, \"height\": 250, \"params\": [{\"name\": \"param_8\", \"select\": {\"type\": \"interval\", \"encodings\": [\"x\", \"y\"]}, \"bind\": \"scales\"}], \"width\": 250, \"$schema\": \"https://vega.github.io/schema/vega-lite/v5.8.0.json\", \"datasets\": {\"data-fc9a88d0b43c924c3f32cbceee1ff195\": [{\"Subsequent Mask\": 0.0, \"Window\": 0, \"Masking\": 0}, {\"Subsequent Mask\": 0.0, \"Window\": 0, \"Masking\": 1}, {\"Subsequent Mask\": 0.0, \"Window\": 0, \"Masking\": 2}, {\"Subsequent Mask\": 0.0, \"Window\": 0, \"Masking\": 3}, {\"Subsequent Mask\": 0.0, \"Window\": 0, \"Masking\": 4}, {\"Subsequent Mask\": 0.0, \"Window\": 0, \"Masking\": 5}, {\"Subsequent Mask\": 0.0, \"Window\": 0, \"Masking\": 6}, {\"Subsequent Mask\": 0.0, \"Window\": 0, \"Masking\": 7}, {\"Subsequent Mask\": 0.0, \"Window\": 0, \"Masking\": 8}, {\"Subsequent Mask\": 0.0, \"Window\": 0, \"Masking\": 9}, {\"Subsequent Mask\": 0.0, \"Window\": 0, \"Masking\": 10}, {\"Subsequent Mask\": 0.0, \"Window\": 0, \"Masking\": 11}, {\"Subsequent Mask\": 0.0, \"Window\": 0, \"Masking\": 12}, {\"Subsequent Mask\": 0.0, \"Window\": 0, \"Masking\": 13}, {\"Subsequent Mask\": 0.0, \"Window\": 0, \"Masking\": 14}, {\"Subsequent Mask\": 0.0, \"Window\": 0, \"Masking\": 15}, {\"Subsequent Mask\": 0.0, \"Window\": 0, \"Masking\": 16}, {\"Subsequent Mask\": 0.0, \"Window\": 0, \"Masking\": 17}, {\"Subsequent Mask\": 0.0, \"Window\": 0, \"Masking\": 18}, {\"Subsequent Mask\": 0.0, \"Window\": 0, \"Masking\": 19}, {\"Subsequent Mask\": 1.0, \"Window\": 1, \"Masking\": 0}, {\"Subsequent Mask\": 0.0, \"Window\": 1, \"Masking\": 1}, {\"Subsequent Mask\": 0.0, \"Window\": 1, \"Masking\": 2}, {\"Subsequent Mask\": 0.0, \"Window\": 1, \"Masking\": 3}, {\"Subsequent Mask\": 0.0, \"Window\": 1, \"Masking\": 4}, {\"Subsequent Mask\": 0.0, \"Window\": 1, \"Masking\": 5}, {\"Subsequent Mask\": 0.0, \"Window\": 1, \"Masking\": 6}, {\"Subsequent Mask\": 0.0, \"Window\": 1, \"Masking\": 7}, {\"Subsequent Mask\": 0.0, \"Window\": 1, \"Masking\": 8}, {\"Subsequent Mask\": 0.0, \"Window\": 1, \"Masking\": 9}, {\"Subsequent Mask\": 0.0, \"Window\": 1, \"Masking\": 10}, {\"Subsequent Mask\": 0.0, \"Window\": 1, \"Masking\": 11}, {\"Subsequent Mask\": 0.0, \"Window\": 1, \"Masking\": 12}, {\"Subsequent Mask\": 0.0, \"Window\": 1, \"Masking\": 13}, {\"Subsequent Mask\": 0.0, \"Window\": 1, \"Masking\": 14}, {\"Subsequent Mask\": 0.0, \"Window\": 1, \"Masking\": 15}, {\"Subsequent Mask\": 0.0, \"Window\": 1, \"Masking\": 16}, {\"Subsequent Mask\": 0.0, \"Window\": 1, \"Masking\": 17}, {\"Subsequent Mask\": 0.0, \"Window\": 1, \"Masking\": 18}, {\"Subsequent Mask\": 0.0, \"Window\": 1, \"Masking\": 19}, {\"Subsequent Mask\": 1.0, \"Window\": 2, \"Masking\": 0}, {\"Subsequent Mask\": 1.0, \"Window\": 2, \"Masking\": 1}, {\"Subsequent Mask\": 0.0, \"Window\": 2, \"Masking\": 2}, {\"Subsequent Mask\": 0.0, \"Window\": 2, \"Masking\": 3}, {\"Subsequent Mask\": 0.0, \"Window\": 2, \"Masking\": 4}, {\"Subsequent Mask\": 0.0, \"Window\": 2, \"Masking\": 5}, {\"Subsequent Mask\": 0.0, \"Window\": 2, \"Masking\": 6}, {\"Subsequent Mask\": 0.0, \"Window\": 2, \"Masking\": 7}, {\"Subsequent Mask\": 0.0, \"Window\": 2, \"Masking\": 8}, {\"Subsequent Mask\": 0.0, \"Window\": 2, \"Masking\": 9}, {\"Subsequent Mask\": 0.0, \"Window\": 2, \"Masking\": 10}, {\"Subsequent Mask\": 0.0, \"Window\": 2, \"Masking\": 11}, {\"Subsequent Mask\": 0.0, \"Window\": 2, \"Masking\": 12}, {\"Subsequent Mask\": 0.0, \"Window\": 2, \"Masking\": 13}, {\"Subsequent Mask\": 0.0, \"Window\": 2, \"Masking\": 14}, {\"Subsequent Mask\": 0.0, \"Window\": 2, \"Masking\": 15}, {\"Subsequent Mask\": 0.0, \"Window\": 2, \"Masking\": 16}, {\"Subsequent Mask\": 0.0, \"Window\": 2, \"Masking\": 17}, {\"Subsequent Mask\": 0.0, \"Window\": 2, \"Masking\": 18}, {\"Subsequent Mask\": 0.0, \"Window\": 2, \"Masking\": 19}, {\"Subsequent Mask\": 1.0, \"Window\": 3, \"Masking\": 0}, {\"Subsequent Mask\": 1.0, \"Window\": 3, \"Masking\": 1}, {\"Subsequent Mask\": 1.0, \"Window\": 3, \"Masking\": 2}, {\"Subsequent Mask\": 0.0, \"Window\": 3, \"Masking\": 3}, {\"Subsequent Mask\": 0.0, \"Window\": 3, \"Masking\": 4}, {\"Subsequent Mask\": 0.0, \"Window\": 3, \"Masking\": 5}, {\"Subsequent Mask\": 0.0, \"Window\": 3, \"Masking\": 6}, {\"Subsequent Mask\": 0.0, \"Window\": 3, \"Masking\": 7}, {\"Subsequent Mask\": 0.0, \"Window\": 3, \"Masking\": 8}, {\"Subsequent Mask\": 0.0, \"Window\": 3, \"Masking\": 9}, {\"Subsequent Mask\": 0.0, \"Window\": 3, \"Masking\": 10}, {\"Subsequent Mask\": 0.0, \"Window\": 3, \"Masking\": 11}, {\"Subsequent Mask\": 0.0, \"Window\": 3, \"Masking\": 12}, {\"Subsequent Mask\": 0.0, \"Window\": 3, \"Masking\": 13}, {\"Subsequent Mask\": 0.0, \"Window\": 3, \"Masking\": 14}, {\"Subsequent Mask\": 0.0, \"Window\": 3, \"Masking\": 15}, {\"Subsequent Mask\": 0.0, \"Window\": 3, \"Masking\": 16}, {\"Subsequent Mask\": 0.0, \"Window\": 3, \"Masking\": 17}, {\"Subsequent Mask\": 0.0, \"Window\": 3, \"Masking\": 18}, {\"Subsequent Mask\": 0.0, \"Window\": 3, \"Masking\": 19}, {\"Subsequent Mask\": 1.0, \"Window\": 4, \"Masking\": 0}, {\"Subsequent Mask\": 1.0, \"Window\": 4, \"Masking\": 1}, {\"Subsequent Mask\": 1.0, \"Window\": 4, \"Masking\": 2}, {\"Subsequent Mask\": 1.0, \"Window\": 4, \"Masking\": 3}, {\"Subsequent Mask\": 0.0, \"Window\": 4, \"Masking\": 4}, {\"Subsequent Mask\": 0.0, \"Window\": 4, \"Masking\": 5}, {\"Subsequent Mask\": 0.0, \"Window\": 4, \"Masking\": 6}, {\"Subsequent Mask\": 0.0, \"Window\": 4, \"Masking\": 7}, {\"Subsequent Mask\": 0.0, \"Window\": 4, \"Masking\": 8}, {\"Subsequent Mask\": 0.0, \"Window\": 4, \"Masking\": 9}, {\"Subsequent Mask\": 0.0, \"Window\": 4, \"Masking\": 10}, {\"Subsequent Mask\": 0.0, \"Window\": 4, \"Masking\": 11}, {\"Subsequent Mask\": 0.0, \"Window\": 4, \"Masking\": 12}, {\"Subsequent Mask\": 0.0, \"Window\": 4, \"Masking\": 13}, {\"Subsequent Mask\": 0.0, \"Window\": 4, \"Masking\": 14}, {\"Subsequent Mask\": 0.0, \"Window\": 4, \"Masking\": 15}, {\"Subsequent Mask\": 0.0, \"Window\": 4, \"Masking\": 16}, {\"Subsequent Mask\": 0.0, \"Window\": 4, \"Masking\": 17}, {\"Subsequent Mask\": 0.0, \"Window\": 4, \"Masking\": 18}, {\"Subsequent Mask\": 0.0, \"Window\": 4, \"Masking\": 19}, {\"Subsequent Mask\": 1.0, \"Window\": 5, \"Masking\": 0}, {\"Subsequent Mask\": 1.0, \"Window\": 5, \"Masking\": 1}, {\"Subsequent Mask\": 1.0, \"Window\": 5, \"Masking\": 2}, {\"Subsequent Mask\": 1.0, \"Window\": 5, \"Masking\": 3}, {\"Subsequent Mask\": 1.0, \"Window\": 5, \"Masking\": 4}, {\"Subsequent Mask\": 0.0, \"Window\": 5, \"Masking\": 5}, {\"Subsequent Mask\": 0.0, \"Window\": 5, \"Masking\": 6}, {\"Subsequent Mask\": 0.0, \"Window\": 5, \"Masking\": 7}, {\"Subsequent Mask\": 0.0, \"Window\": 5, \"Masking\": 8}, {\"Subsequent Mask\": 0.0, \"Window\": 5, \"Masking\": 9}, {\"Subsequent Mask\": 0.0, \"Window\": 5, \"Masking\": 10}, {\"Subsequent Mask\": 0.0, \"Window\": 5, \"Masking\": 11}, {\"Subsequent Mask\": 0.0, \"Window\": 5, \"Masking\": 12}, {\"Subsequent Mask\": 0.0, \"Window\": 5, \"Masking\": 13}, {\"Subsequent Mask\": 0.0, \"Window\": 5, \"Masking\": 14}, {\"Subsequent Mask\": 0.0, \"Window\": 5, \"Masking\": 15}, {\"Subsequent Mask\": 0.0, \"Window\": 5, \"Masking\": 16}, {\"Subsequent Mask\": 0.0, \"Window\": 5, \"Masking\": 17}, {\"Subsequent Mask\": 0.0, \"Window\": 5, \"Masking\": 18}, {\"Subsequent Mask\": 0.0, \"Window\": 5, \"Masking\": 19}, {\"Subsequent Mask\": 1.0, \"Window\": 6, \"Masking\": 0}, {\"Subsequent Mask\": 1.0, \"Window\": 6, \"Masking\": 1}, {\"Subsequent Mask\": 1.0, \"Window\": 6, \"Masking\": 2}, {\"Subsequent Mask\": 1.0, \"Window\": 6, \"Masking\": 3}, {\"Subsequent Mask\": 1.0, \"Window\": 6, \"Masking\": 4}, {\"Subsequent Mask\": 1.0, \"Window\": 6, \"Masking\": 5}, {\"Subsequent Mask\": 0.0, \"Window\": 6, \"Masking\": 6}, {\"Subsequent Mask\": 0.0, \"Window\": 6, \"Masking\": 7}, {\"Subsequent Mask\": 0.0, \"Window\": 6, \"Masking\": 8}, {\"Subsequent Mask\": 0.0, \"Window\": 6, \"Masking\": 9}, {\"Subsequent Mask\": 0.0, \"Window\": 6, \"Masking\": 10}, {\"Subsequent Mask\": 0.0, \"Window\": 6, \"Masking\": 11}, {\"Subsequent Mask\": 0.0, \"Window\": 6, \"Masking\": 12}, {\"Subsequent Mask\": 0.0, \"Window\": 6, \"Masking\": 13}, {\"Subsequent Mask\": 0.0, \"Window\": 6, \"Masking\": 14}, {\"Subsequent Mask\": 0.0, \"Window\": 6, \"Masking\": 15}, {\"Subsequent Mask\": 0.0, \"Window\": 6, \"Masking\": 16}, {\"Subsequent Mask\": 0.0, \"Window\": 6, \"Masking\": 17}, {\"Subsequent Mask\": 0.0, \"Window\": 6, \"Masking\": 18}, {\"Subsequent Mask\": 0.0, \"Window\": 6, \"Masking\": 19}, {\"Subsequent Mask\": 1.0, \"Window\": 7, \"Masking\": 0}, {\"Subsequent Mask\": 1.0, \"Window\": 7, \"Masking\": 1}, {\"Subsequent Mask\": 1.0, \"Window\": 7, \"Masking\": 2}, {\"Subsequent Mask\": 1.0, \"Window\": 7, \"Masking\": 3}, {\"Subsequent Mask\": 1.0, \"Window\": 7, \"Masking\": 4}, {\"Subsequent Mask\": 1.0, \"Window\": 7, \"Masking\": 5}, {\"Subsequent Mask\": 1.0, \"Window\": 7, \"Masking\": 6}, {\"Subsequent Mask\": 0.0, \"Window\": 7, \"Masking\": 7}, {\"Subsequent Mask\": 0.0, \"Window\": 7, \"Masking\": 8}, {\"Subsequent Mask\": 0.0, \"Window\": 7, \"Masking\": 9}, {\"Subsequent Mask\": 0.0, \"Window\": 7, \"Masking\": 10}, {\"Subsequent Mask\": 0.0, \"Window\": 7, \"Masking\": 11}, {\"Subsequent Mask\": 0.0, \"Window\": 7, \"Masking\": 12}, {\"Subsequent Mask\": 0.0, \"Window\": 7, \"Masking\": 13}, {\"Subsequent Mask\": 0.0, \"Window\": 7, \"Masking\": 14}, {\"Subsequent Mask\": 0.0, \"Window\": 7, \"Masking\": 15}, {\"Subsequent Mask\": 0.0, \"Window\": 7, \"Masking\": 16}, {\"Subsequent Mask\": 0.0, \"Window\": 7, \"Masking\": 17}, {\"Subsequent Mask\": 0.0, \"Window\": 7, \"Masking\": 18}, {\"Subsequent Mask\": 0.0, \"Window\": 7, \"Masking\": 19}, {\"Subsequent Mask\": 1.0, \"Window\": 8, \"Masking\": 0}, {\"Subsequent Mask\": 1.0, \"Window\": 8, \"Masking\": 1}, {\"Subsequent Mask\": 1.0, \"Window\": 8, \"Masking\": 2}, {\"Subsequent Mask\": 1.0, \"Window\": 8, \"Masking\": 3}, {\"Subsequent Mask\": 1.0, \"Window\": 8, \"Masking\": 4}, {\"Subsequent Mask\": 1.0, \"Window\": 8, \"Masking\": 5}, {\"Subsequent Mask\": 1.0, \"Window\": 8, \"Masking\": 6}, {\"Subsequent Mask\": 1.0, \"Window\": 8, \"Masking\": 7}, {\"Subsequent Mask\": 0.0, \"Window\": 8, \"Masking\": 8}, {\"Subsequent Mask\": 0.0, \"Window\": 8, \"Masking\": 9}, {\"Subsequent Mask\": 0.0, \"Window\": 8, \"Masking\": 10}, {\"Subsequent Mask\": 0.0, \"Window\": 8, \"Masking\": 11}, {\"Subsequent Mask\": 0.0, \"Window\": 8, \"Masking\": 12}, {\"Subsequent Mask\": 0.0, \"Window\": 8, \"Masking\": 13}, {\"Subsequent Mask\": 0.0, \"Window\": 8, \"Masking\": 14}, {\"Subsequent Mask\": 0.0, \"Window\": 8, \"Masking\": 15}, {\"Subsequent Mask\": 0.0, \"Window\": 8, \"Masking\": 16}, {\"Subsequent Mask\": 0.0, \"Window\": 8, \"Masking\": 17}, {\"Subsequent Mask\": 0.0, \"Window\": 8, \"Masking\": 18}, {\"Subsequent Mask\": 0.0, \"Window\": 8, \"Masking\": 19}, {\"Subsequent Mask\": 1.0, \"Window\": 9, \"Masking\": 0}, {\"Subsequent Mask\": 1.0, \"Window\": 9, \"Masking\": 1}, {\"Subsequent Mask\": 1.0, \"Window\": 9, \"Masking\": 2}, {\"Subsequent Mask\": 1.0, \"Window\": 9, \"Masking\": 3}, {\"Subsequent Mask\": 1.0, \"Window\": 9, \"Masking\": 4}, {\"Subsequent Mask\": 1.0, \"Window\": 9, \"Masking\": 5}, {\"Subsequent Mask\": 1.0, \"Window\": 9, \"Masking\": 6}, {\"Subsequent Mask\": 1.0, \"Window\": 9, \"Masking\": 7}, {\"Subsequent Mask\": 1.0, \"Window\": 9, \"Masking\": 8}, {\"Subsequent Mask\": 0.0, \"Window\": 9, \"Masking\": 9}, {\"Subsequent Mask\": 0.0, \"Window\": 9, \"Masking\": 10}, {\"Subsequent Mask\": 0.0, \"Window\": 9, \"Masking\": 11}, {\"Subsequent Mask\": 0.0, \"Window\": 9, \"Masking\": 12}, {\"Subsequent Mask\": 0.0, \"Window\": 9, \"Masking\": 13}, {\"Subsequent Mask\": 0.0, \"Window\": 9, \"Masking\": 14}, {\"Subsequent Mask\": 0.0, \"Window\": 9, \"Masking\": 15}, {\"Subsequent Mask\": 0.0, \"Window\": 9, \"Masking\": 16}, {\"Subsequent Mask\": 0.0, \"Window\": 9, \"Masking\": 17}, {\"Subsequent Mask\": 0.0, \"Window\": 9, \"Masking\": 18}, {\"Subsequent Mask\": 0.0, \"Window\": 9, \"Masking\": 19}, {\"Subsequent Mask\": 1.0, \"Window\": 10, \"Masking\": 0}, {\"Subsequent Mask\": 1.0, \"Window\": 10, \"Masking\": 1}, {\"Subsequent Mask\": 1.0, \"Window\": 10, \"Masking\": 2}, {\"Subsequent Mask\": 1.0, \"Window\": 10, \"Masking\": 3}, {\"Subsequent Mask\": 1.0, \"Window\": 10, \"Masking\": 4}, {\"Subsequent Mask\": 1.0, \"Window\": 10, \"Masking\": 5}, {\"Subsequent Mask\": 1.0, \"Window\": 10, \"Masking\": 6}, {\"Subsequent Mask\": 1.0, \"Window\": 10, \"Masking\": 7}, {\"Subsequent Mask\": 1.0, \"Window\": 10, \"Masking\": 8}, {\"Subsequent Mask\": 1.0, \"Window\": 10, \"Masking\": 9}, {\"Subsequent Mask\": 0.0, \"Window\": 10, \"Masking\": 10}, {\"Subsequent Mask\": 0.0, \"Window\": 10, \"Masking\": 11}, {\"Subsequent Mask\": 0.0, \"Window\": 10, \"Masking\": 12}, {\"Subsequent Mask\": 0.0, \"Window\": 10, \"Masking\": 13}, {\"Subsequent Mask\": 0.0, \"Window\": 10, \"Masking\": 14}, {\"Subsequent Mask\": 0.0, \"Window\": 10, \"Masking\": 15}, {\"Subsequent Mask\": 0.0, \"Window\": 10, \"Masking\": 16}, {\"Subsequent Mask\": 0.0, \"Window\": 10, \"Masking\": 17}, {\"Subsequent Mask\": 0.0, \"Window\": 10, \"Masking\": 18}, {\"Subsequent Mask\": 0.0, \"Window\": 10, \"Masking\": 19}, {\"Subsequent Mask\": 1.0, \"Window\": 11, \"Masking\": 0}, {\"Subsequent Mask\": 1.0, \"Window\": 11, \"Masking\": 1}, {\"Subsequent Mask\": 1.0, \"Window\": 11, \"Masking\": 2}, {\"Subsequent Mask\": 1.0, \"Window\": 11, \"Masking\": 3}, {\"Subsequent Mask\": 1.0, \"Window\": 11, \"Masking\": 4}, {\"Subsequent Mask\": 1.0, \"Window\": 11, \"Masking\": 5}, {\"Subsequent Mask\": 1.0, \"Window\": 11, \"Masking\": 6}, {\"Subsequent Mask\": 1.0, \"Window\": 11, \"Masking\": 7}, {\"Subsequent Mask\": 1.0, \"Window\": 11, \"Masking\": 8}, {\"Subsequent Mask\": 1.0, \"Window\": 11, \"Masking\": 9}, {\"Subsequent Mask\": 1.0, \"Window\": 11, \"Masking\": 10}, {\"Subsequent Mask\": 0.0, \"Window\": 11, \"Masking\": 11}, {\"Subsequent Mask\": 0.0, \"Window\": 11, \"Masking\": 12}, {\"Subsequent Mask\": 0.0, \"Window\": 11, \"Masking\": 13}, {\"Subsequent Mask\": 0.0, \"Window\": 11, \"Masking\": 14}, {\"Subsequent Mask\": 0.0, \"Window\": 11, \"Masking\": 15}, {\"Subsequent Mask\": 0.0, \"Window\": 11, \"Masking\": 16}, {\"Subsequent Mask\": 0.0, \"Window\": 11, \"Masking\": 17}, {\"Subsequent Mask\": 0.0, \"Window\": 11, \"Masking\": 18}, {\"Subsequent Mask\": 0.0, \"Window\": 11, \"Masking\": 19}, {\"Subsequent Mask\": 1.0, \"Window\": 12, \"Masking\": 0}, {\"Subsequent Mask\": 1.0, \"Window\": 12, \"Masking\": 1}, {\"Subsequent Mask\": 1.0, \"Window\": 12, \"Masking\": 2}, {\"Subsequent Mask\": 1.0, \"Window\": 12, \"Masking\": 3}, {\"Subsequent Mask\": 1.0, \"Window\": 12, \"Masking\": 4}, {\"Subsequent Mask\": 1.0, \"Window\": 12, \"Masking\": 5}, {\"Subsequent Mask\": 1.0, \"Window\": 12, \"Masking\": 6}, {\"Subsequent Mask\": 1.0, \"Window\": 12, \"Masking\": 7}, {\"Subsequent Mask\": 1.0, \"Window\": 12, \"Masking\": 8}, {\"Subsequent Mask\": 1.0, \"Window\": 12, \"Masking\": 9}, {\"Subsequent Mask\": 1.0, \"Window\": 12, \"Masking\": 10}, {\"Subsequent Mask\": 1.0, \"Window\": 12, \"Masking\": 11}, {\"Subsequent Mask\": 0.0, \"Window\": 12, \"Masking\": 12}, {\"Subsequent Mask\": 0.0, \"Window\": 12, \"Masking\": 13}, {\"Subsequent Mask\": 0.0, \"Window\": 12, \"Masking\": 14}, {\"Subsequent Mask\": 0.0, \"Window\": 12, \"Masking\": 15}, {\"Subsequent Mask\": 0.0, \"Window\": 12, \"Masking\": 16}, {\"Subsequent Mask\": 0.0, \"Window\": 12, \"Masking\": 17}, {\"Subsequent Mask\": 0.0, \"Window\": 12, \"Masking\": 18}, {\"Subsequent Mask\": 0.0, \"Window\": 12, \"Masking\": 19}, {\"Subsequent Mask\": 1.0, \"Window\": 13, \"Masking\": 0}, {\"Subsequent Mask\": 1.0, \"Window\": 13, \"Masking\": 1}, {\"Subsequent Mask\": 1.0, \"Window\": 13, \"Masking\": 2}, {\"Subsequent Mask\": 1.0, \"Window\": 13, \"Masking\": 3}, {\"Subsequent Mask\": 1.0, \"Window\": 13, \"Masking\": 4}, {\"Subsequent Mask\": 1.0, \"Window\": 13, \"Masking\": 5}, {\"Subsequent Mask\": 1.0, \"Window\": 13, \"Masking\": 6}, {\"Subsequent Mask\": 1.0, \"Window\": 13, \"Masking\": 7}, {\"Subsequent Mask\": 1.0, \"Window\": 13, \"Masking\": 8}, {\"Subsequent Mask\": 1.0, \"Window\": 13, \"Masking\": 9}, {\"Subsequent Mask\": 1.0, \"Window\": 13, \"Masking\": 10}, {\"Subsequent Mask\": 1.0, \"Window\": 13, \"Masking\": 11}, {\"Subsequent Mask\": 1.0, \"Window\": 13, \"Masking\": 12}, {\"Subsequent Mask\": 0.0, \"Window\": 13, \"Masking\": 13}, {\"Subsequent Mask\": 0.0, \"Window\": 13, \"Masking\": 14}, {\"Subsequent Mask\": 0.0, \"Window\": 13, \"Masking\": 15}, {\"Subsequent Mask\": 0.0, \"Window\": 13, \"Masking\": 16}, {\"Subsequent Mask\": 0.0, \"Window\": 13, \"Masking\": 17}, {\"Subsequent Mask\": 0.0, \"Window\": 13, \"Masking\": 18}, {\"Subsequent Mask\": 0.0, \"Window\": 13, \"Masking\": 19}, {\"Subsequent Mask\": 1.0, \"Window\": 14, \"Masking\": 0}, {\"Subsequent Mask\": 1.0, \"Window\": 14, \"Masking\": 1}, {\"Subsequent Mask\": 1.0, \"Window\": 14, \"Masking\": 2}, {\"Subsequent Mask\": 1.0, \"Window\": 14, \"Masking\": 3}, {\"Subsequent Mask\": 1.0, \"Window\": 14, \"Masking\": 4}, {\"Subsequent Mask\": 1.0, \"Window\": 14, \"Masking\": 5}, {\"Subsequent Mask\": 1.0, \"Window\": 14, \"Masking\": 6}, {\"Subsequent Mask\": 1.0, \"Window\": 14, \"Masking\": 7}, {\"Subsequent Mask\": 1.0, \"Window\": 14, \"Masking\": 8}, {\"Subsequent Mask\": 1.0, \"Window\": 14, \"Masking\": 9}, {\"Subsequent Mask\": 1.0, \"Window\": 14, \"Masking\": 10}, {\"Subsequent Mask\": 1.0, \"Window\": 14, \"Masking\": 11}, {\"Subsequent Mask\": 1.0, \"Window\": 14, \"Masking\": 12}, {\"Subsequent Mask\": 1.0, \"Window\": 14, \"Masking\": 13}, {\"Subsequent Mask\": 0.0, \"Window\": 14, \"Masking\": 14}, {\"Subsequent Mask\": 0.0, \"Window\": 14, \"Masking\": 15}, {\"Subsequent Mask\": 0.0, \"Window\": 14, \"Masking\": 16}, {\"Subsequent Mask\": 0.0, \"Window\": 14, \"Masking\": 17}, {\"Subsequent Mask\": 0.0, \"Window\": 14, \"Masking\": 18}, {\"Subsequent Mask\": 0.0, \"Window\": 14, \"Masking\": 19}, {\"Subsequent Mask\": 1.0, \"Window\": 15, \"Masking\": 0}, {\"Subsequent Mask\": 1.0, \"Window\": 15, \"Masking\": 1}, {\"Subsequent Mask\": 1.0, \"Window\": 15, \"Masking\": 2}, {\"Subsequent Mask\": 1.0, \"Window\": 15, \"Masking\": 3}, {\"Subsequent Mask\": 1.0, \"Window\": 15, \"Masking\": 4}, {\"Subsequent Mask\": 1.0, \"Window\": 15, \"Masking\": 5}, {\"Subsequent Mask\": 1.0, \"Window\": 15, \"Masking\": 6}, {\"Subsequent Mask\": 1.0, \"Window\": 15, \"Masking\": 7}, {\"Subsequent Mask\": 1.0, \"Window\": 15, \"Masking\": 8}, {\"Subsequent Mask\": 1.0, \"Window\": 15, \"Masking\": 9}, {\"Subsequent Mask\": 1.0, \"Window\": 15, \"Masking\": 10}, {\"Subsequent Mask\": 1.0, \"Window\": 15, \"Masking\": 11}, {\"Subsequent Mask\": 1.0, \"Window\": 15, \"Masking\": 12}, {\"Subsequent Mask\": 1.0, \"Window\": 15, \"Masking\": 13}, {\"Subsequent Mask\": 1.0, \"Window\": 15, \"Masking\": 14}, {\"Subsequent Mask\": 0.0, \"Window\": 15, \"Masking\": 15}, {\"Subsequent Mask\": 0.0, \"Window\": 15, \"Masking\": 16}, {\"Subsequent Mask\": 0.0, \"Window\": 15, \"Masking\": 17}, {\"Subsequent Mask\": 0.0, \"Window\": 15, \"Masking\": 18}, {\"Subsequent Mask\": 0.0, \"Window\": 15, \"Masking\": 19}, {\"Subsequent Mask\": 1.0, \"Window\": 16, \"Masking\": 0}, {\"Subsequent Mask\": 1.0, \"Window\": 16, \"Masking\": 1}, {\"Subsequent Mask\": 1.0, \"Window\": 16, \"Masking\": 2}, {\"Subsequent Mask\": 1.0, \"Window\": 16, \"Masking\": 3}, {\"Subsequent Mask\": 1.0, \"Window\": 16, \"Masking\": 4}, {\"Subsequent Mask\": 1.0, \"Window\": 16, \"Masking\": 5}, {\"Subsequent Mask\": 1.0, \"Window\": 16, \"Masking\": 6}, {\"Subsequent Mask\": 1.0, \"Window\": 16, \"Masking\": 7}, {\"Subsequent Mask\": 1.0, \"Window\": 16, \"Masking\": 8}, {\"Subsequent Mask\": 1.0, \"Window\": 16, \"Masking\": 9}, {\"Subsequent Mask\": 1.0, \"Window\": 16, \"Masking\": 10}, {\"Subsequent Mask\": 1.0, \"Window\": 16, \"Masking\": 11}, {\"Subsequent Mask\": 1.0, \"Window\": 16, \"Masking\": 12}, {\"Subsequent Mask\": 1.0, \"Window\": 16, \"Masking\": 13}, {\"Subsequent Mask\": 1.0, \"Window\": 16, \"Masking\": 14}, {\"Subsequent Mask\": 1.0, \"Window\": 16, \"Masking\": 15}, {\"Subsequent Mask\": 0.0, \"Window\": 16, \"Masking\": 16}, {\"Subsequent Mask\": 0.0, \"Window\": 16, \"Masking\": 17}, {\"Subsequent Mask\": 0.0, \"Window\": 16, \"Masking\": 18}, {\"Subsequent Mask\": 0.0, \"Window\": 16, \"Masking\": 19}, {\"Subsequent Mask\": 1.0, \"Window\": 17, \"Masking\": 0}, {\"Subsequent Mask\": 1.0, \"Window\": 17, \"Masking\": 1}, {\"Subsequent Mask\": 1.0, \"Window\": 17, \"Masking\": 2}, {\"Subsequent Mask\": 1.0, \"Window\": 17, \"Masking\": 3}, {\"Subsequent Mask\": 1.0, \"Window\": 17, \"Masking\": 4}, {\"Subsequent Mask\": 1.0, \"Window\": 17, \"Masking\": 5}, {\"Subsequent Mask\": 1.0, \"Window\": 17, \"Masking\": 6}, {\"Subsequent Mask\": 1.0, \"Window\": 17, \"Masking\": 7}, {\"Subsequent Mask\": 1.0, \"Window\": 17, \"Masking\": 8}, {\"Subsequent Mask\": 1.0, \"Window\": 17, \"Masking\": 9}, {\"Subsequent Mask\": 1.0, \"Window\": 17, \"Masking\": 10}, {\"Subsequent Mask\": 1.0, \"Window\": 17, \"Masking\": 11}, {\"Subsequent Mask\": 1.0, \"Window\": 17, \"Masking\": 12}, {\"Subsequent Mask\": 1.0, \"Window\": 17, \"Masking\": 13}, {\"Subsequent Mask\": 1.0, \"Window\": 17, \"Masking\": 14}, {\"Subsequent Mask\": 1.0, \"Window\": 17, \"Masking\": 15}, {\"Subsequent Mask\": 1.0, \"Window\": 17, \"Masking\": 16}, {\"Subsequent Mask\": 0.0, \"Window\": 17, \"Masking\": 17}, {\"Subsequent Mask\": 0.0, \"Window\": 17, \"Masking\": 18}, {\"Subsequent Mask\": 0.0, \"Window\": 17, \"Masking\": 19}, {\"Subsequent Mask\": 1.0, \"Window\": 18, \"Masking\": 0}, {\"Subsequent Mask\": 1.0, \"Window\": 18, \"Masking\": 1}, {\"Subsequent Mask\": 1.0, \"Window\": 18, \"Masking\": 2}, {\"Subsequent Mask\": 1.0, \"Window\": 18, \"Masking\": 3}, {\"Subsequent Mask\": 1.0, \"Window\": 18, \"Masking\": 4}, {\"Subsequent Mask\": 1.0, \"Window\": 18, \"Masking\": 5}, {\"Subsequent Mask\": 1.0, \"Window\": 18, \"Masking\": 6}, {\"Subsequent Mask\": 1.0, \"Window\": 18, \"Masking\": 7}, {\"Subsequent Mask\": 1.0, \"Window\": 18, \"Masking\": 8}, {\"Subsequent Mask\": 1.0, \"Window\": 18, \"Masking\": 9}, {\"Subsequent Mask\": 1.0, \"Window\": 18, \"Masking\": 10}, {\"Subsequent Mask\": 1.0, \"Window\": 18, \"Masking\": 11}, {\"Subsequent Mask\": 1.0, \"Window\": 18, \"Masking\": 12}, {\"Subsequent Mask\": 1.0, \"Window\": 18, \"Masking\": 13}, {\"Subsequent Mask\": 1.0, \"Window\": 18, \"Masking\": 14}, {\"Subsequent Mask\": 1.0, \"Window\": 18, \"Masking\": 15}, {\"Subsequent Mask\": 1.0, \"Window\": 18, \"Masking\": 16}, {\"Subsequent Mask\": 1.0, \"Window\": 18, \"Masking\": 17}, {\"Subsequent Mask\": 0.0, \"Window\": 18, \"Masking\": 18}, {\"Subsequent Mask\": 0.0, \"Window\": 18, \"Masking\": 19}, {\"Subsequent Mask\": 1.0, \"Window\": 19, \"Masking\": 0}, {\"Subsequent Mask\": 1.0, \"Window\": 19, \"Masking\": 1}, {\"Subsequent Mask\": 1.0, \"Window\": 19, \"Masking\": 2}, {\"Subsequent Mask\": 1.0, \"Window\": 19, \"Masking\": 3}, {\"Subsequent Mask\": 1.0, \"Window\": 19, \"Masking\": 4}, {\"Subsequent Mask\": 1.0, \"Window\": 19, \"Masking\": 5}, {\"Subsequent Mask\": 1.0, \"Window\": 19, \"Masking\": 6}, {\"Subsequent Mask\": 1.0, \"Window\": 19, \"Masking\": 7}, {\"Subsequent Mask\": 1.0, \"Window\": 19, \"Masking\": 8}, {\"Subsequent Mask\": 1.0, \"Window\": 19, \"Masking\": 9}, {\"Subsequent Mask\": 1.0, \"Window\": 19, \"Masking\": 10}, {\"Subsequent Mask\": 1.0, \"Window\": 19, \"Masking\": 11}, {\"Subsequent Mask\": 1.0, \"Window\": 19, \"Masking\": 12}, {\"Subsequent Mask\": 1.0, \"Window\": 19, \"Masking\": 13}, {\"Subsequent Mask\": 1.0, \"Window\": 19, \"Masking\": 14}, {\"Subsequent Mask\": 1.0, \"Window\": 19, \"Masking\": 15}, {\"Subsequent Mask\": 1.0, \"Window\": 19, \"Masking\": 16}, {\"Subsequent Mask\": 1.0, \"Window\": 19, \"Masking\": 17}, {\"Subsequent Mask\": 1.0, \"Window\": 19, \"Masking\": 18}, {\"Subsequent Mask\": 0.0, \"Window\": 19, \"Masking\": 19}]}}, {\"mode\": \"vega-lite\"});\n</script>",
      "text/plain": "alt.Chart(...)"
     },
     "execution_count": 18,
     "metadata": {},
     "output_type": "execute_result"
    }
   ],
   "source": [
    "def example_mask():\n",
    "    LS_data = pd.concat(\n",
    "        [\n",
    "            pd.DataFrame(\n",
    "                {\n",
    "                    \"Subsequent Mask\": get_attn_subsequent_mask(20)[0][x, y].flatten(),\n",
    "                    \"Window\": y,\n",
    "                    \"Masking\": x,\n",
    "                }\n",
    "            )\n",
    "            for y in range(20)\n",
    "            for x in range(20)\n",
    "        ]\n",
    "    )\n",
    "\n",
    "    return (\n",
    "        alt.Chart(LS_data)\n",
    "        .mark_rect()\n",
    "        .properties(height=250, width=250)\n",
    "        .encode(\n",
    "            alt.X(\"Window:O\"),\n",
    "            alt.Y(\"Masking:O\"),\n",
    "            alt.Color(\"Subsequent Mask:Q\", scale=alt.Scale(scheme=\"viridis\")),\n",
    "        )\n",
    "        .interactive()\n",
    "    )\n",
    "\n",
    "\n",
    "show_example(example_mask)"
   ],
   "metadata": {
    "collapsed": false,
    "ExecuteTime": {
     "end_time": "2023-06-03T06:04:48.089190100Z",
     "start_time": "2023-06-03T06:04:47.902511500Z"
    }
   }
  },
  {
   "cell_type": "code",
   "execution_count": 24,
   "outputs": [
    {
     "name": "stdout",
     "output_type": "stream",
     "text": [
      "tensor([[[0.0796, 0.2618, 0.5120, 0.1466],\n",
      "         [0.0192, 0.0524, 0.0691, 0.8592]],\n",
      "\n",
      "        [[0.0994, 0.2791, 0.5432, 0.0783],\n",
      "         [0.2387, 0.5953, 0.0009, 0.1652]],\n",
      "\n",
      "        [[0.1681, 0.3849, 0.2342, 0.2128],\n",
      "         [0.1639, 0.3344, 0.3052, 0.1965]],\n",
      "\n",
      "        [[0.6775, 0.0996, 0.0253, 0.1975],\n",
      "         [0.1037, 0.7357, 0.0610, 0.0996]],\n",
      "\n",
      "        [[0.0344, 0.0306, 0.4854, 0.4497],\n",
      "         [0.2202, 0.5385, 0.2070, 0.0343]]])\n",
      "tensor([[[ 6.6827e-01,  1.3011e-01,  9.1958e-02, -1.9338e-01, -1.2272e+00,\n",
      "          -2.2763e-01, -9.3714e-02,  8.5295e-02,  5.5590e-01, -3.5056e-02,\n",
      "          -2.6613e-01,  5.0651e-02],\n",
      "         [-3.5936e-01,  1.9435e-01,  1.1814e+00, -6.9755e-01,  5.7582e-02,\n",
      "           1.3883e+00, -1.1081e+00, -1.0341e+00,  5.4899e-01, -6.0826e-01,\n",
      "          -5.3090e-01,  1.8254e+00]],\n",
      "\n",
      "        [[-4.5358e-01, -5.5667e-01,  3.1900e-01,  9.1825e-01,  8.8912e-01,\n",
      "           7.7520e-02, -3.6341e-01, -4.2993e-01, -1.0364e+00, -5.7403e-02,\n",
      "           2.6304e-01,  1.8674e-01],\n",
      "         [-1.6023e-01, -9.0953e-01, -8.9247e-02,  8.4957e-02,  4.7357e-01,\n",
      "          -1.4714e-01,  2.6607e-01, -8.1025e-01, -3.9933e-01,  5.4240e-01,\n",
      "           8.9278e-01,  9.3373e-01]],\n",
      "\n",
      "        [[ 2.8177e-01,  5.8133e-01,  8.7817e-01,  1.9354e-01, -1.0685e-02,\n",
      "          -8.5044e-01, -1.1943e+00,  2.6399e-01, -4.1605e-01,  5.8899e-02,\n",
      "          -1.6094e-01,  7.9878e-02],\n",
      "         [ 1.9766e-01,  4.5541e-01,  8.9856e-01,  2.1109e-01, -5.7552e-02,\n",
      "          -8.8312e-01, -1.2898e+00,  2.5407e-01, -2.1157e-01,  7.3794e-02,\n",
      "          -3.7912e-02, -1.2816e-01]],\n",
      "\n",
      "        [[ 4.5470e-01, -1.1308e-01,  2.1156e-01,  2.1364e-01,  5.7673e-01,\n",
      "           3.1167e-01, -4.2893e-01,  8.2458e-02,  5.1261e-01,  8.3360e-01,\n",
      "          -3.4833e-01, -6.3892e-01],\n",
      "         [ 1.3221e+00, -6.1927e-01,  1.7858e-01,  4.2280e-01, -9.1953e-01,\n",
      "           1.7816e-01,  1.5052e-01, -1.0228e+00,  3.7885e-01, -3.6638e-01,\n",
      "           1.1528e+00, -1.3718e+00]],\n",
      "\n",
      "        [[-3.5409e-01,  1.5326e+00, -4.7794e-04,  6.2424e-01, -4.3872e-01,\n",
      "          -1.2788e+00, -8.5724e-02,  4.6784e-01, -3.5522e-01, -1.1631e+00,\n",
      "           1.0961e+00,  1.5538e-01],\n",
      "         [-1.5348e-02, -3.1335e-02, -7.5004e-01,  5.4290e-01,  2.9141e-02,\n",
      "          -6.6292e-02, -1.0534e+00,  5.7956e-01, -7.0032e-01,  3.4109e-01,\n",
      "           3.8628e-02, -3.8055e-03]]])\n"
     ]
    }
   ],
   "source": [
    "class ScaledDotProductAttention(nn.Module):\n",
    "    \"\"\" Scaled Dot-Product Attention \"\"\"\n",
    "\n",
    "    def __init__(self, scale):\n",
    "        super().__init__()\n",
    "\n",
    "        self.scale = scale\n",
    "        self.softmax = nn.Softmax(dim=2)\n",
    "\n",
    "    def forward(self, q, k, v, mask=None):\n",
    "        u = torch.bmm(q, k.transpose(1, 2)) # 1.Matmul\n",
    "        u = u / self.scale # 2.Scale\n",
    "\n",
    "        if mask is not None:\n",
    "            u = u.masked_fill(mask, -np.inf) # 3.Mask\n",
    "\n",
    "        attn = self.softmax(u) # 4.Softmax\n",
    "        output = torch.bmm(attn, v) # 5.Output\n",
    "\n",
    "        return attn, output\n",
    "\n",
    "\n",
    "if __name__ == \"__main__\":\n",
    "    n_q, n_k, n_v = 2, 4, 4\n",
    "    d_q, d_k, d_v = 24, 24, 12\n",
    "\n",
    "    q = torch.randn(5, n_q, d_q)\n",
    "    k = torch.randn(5, n_k, d_k)\n",
    "    v = torch.randn(5, n_v, d_v)\n",
    "\n",
    "    mask = torch.zeros(5, 1, 1).bool()\n",
    "\n",
    "    attention = ScaledDotProductAttention(scale=np.power(d_k, 0.5))\n",
    "    attn, output = attention(q, k, v, mask=mask)\n",
    "\n",
    "    print(attn)\n",
    "    print(output)"
   ],
   "metadata": {
    "collapsed": false,
    "ExecuteTime": {
     "end_time": "2023-06-03T06:26:50.215560200Z",
     "start_time": "2023-06-03T06:26:50.170395400Z"
    }
   }
  },
  {
   "cell_type": "code",
   "execution_count": null,
   "outputs": [],
   "source": [],
   "metadata": {
    "collapsed": false
   }
  }
 ],
 "metadata": {
  "kernelspec": {
   "display_name": "Python 3",
   "language": "python",
   "name": "python3"
  },
  "language_info": {
   "codemirror_mode": {
    "name": "ipython",
    "version": 2
   },
   "file_extension": ".py",
   "mimetype": "text/x-python",
   "name": "python",
   "nbconvert_exporter": "python",
   "pygments_lexer": "ipython2",
   "version": "2.7.6"
  }
 },
 "nbformat": 4,
 "nbformat_minor": 0
}
