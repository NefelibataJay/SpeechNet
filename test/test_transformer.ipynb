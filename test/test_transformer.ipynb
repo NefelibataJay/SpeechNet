{
 "cells": [
  {
   "cell_type": "code",
   "execution_count": 1,
   "metadata": {
    "collapsed": true,
    "ExecuteTime": {
     "end_time": "2023-06-03T07:18:46.094710400Z",
     "start_time": "2023-06-03T07:18:43.581199800Z"
    }
   },
   "outputs": [],
   "source": [
    "import os\n",
    "import torch\n",
    "import torch.nn as nn\n",
    "import torch.nn.functional as F\n",
    "import math\n",
    "import copy\n",
    "import time\n",
    "from torch.utils.data import DataLoader\n",
    "import torchtext.datasets as datasets\n",
    "from torch.utils.data.distributed import DistributedSampler\n",
    "\n",
    "import numpy as np\n"
   ]
  },
  {
   "cell_type": "code",
   "execution_count": 24,
   "outputs": [],
   "source": [
    "def get_attn_subsequent_mask(seq):\n",
    "    assert seq.dim() == 2\n",
    "    attn_shape = [seq.size(0), seq.size(1), seq.size(1)]\n",
    "    subsequent_mask = torch.triu(torch.ones(attn_shape), diagonal=1)\n",
    "\n",
    "    if seq.is_cuda:\n",
    "        subsequent_mask = subsequent_mask.cuda()\n",
    "\n",
    "    return subsequent_mask"
   ],
   "metadata": {
    "collapsed": false,
    "ExecuteTime": {
     "end_time": "2023-06-03T08:17:47.105383100Z",
     "start_time": "2023-06-03T08:17:47.087398200Z"
    }
   }
  },
  {
   "cell_type": "code",
   "execution_count": 3,
   "outputs": [],
   "source": [
    "def get_attn_pad_mask(inputs, input_lengths, expand_length):\n",
    "    \"\"\"mask position is set to 1\"\"\"\n",
    "\n",
    "    non_pad_mask = get_transformer_non_pad_mask(inputs, input_lengths)\n",
    "    pad_mask = non_pad_mask.lt(1)\n",
    "    attn_pad_mask = pad_mask.unsqueeze(1).expand(-1, expand_length, -1)\n",
    "    return attn_pad_mask"
   ],
   "metadata": {
    "collapsed": false,
    "ExecuteTime": {
     "end_time": "2023-06-03T07:18:46.126101200Z",
     "start_time": "2023-06-03T07:18:46.107017900Z"
    }
   }
  },
  {
   "cell_type": "code",
   "execution_count": 4,
   "outputs": [],
   "source": [
    "def get_transformer_non_pad_mask(inputs, input_lengths):\n",
    "        \"\"\"Padding position is set to 0, either use input_lengths or pad_id\"\"\"\n",
    "        batch_size = inputs.size(0)\n",
    "\n",
    "        if len(inputs.size()) == 2:\n",
    "            non_pad_mask = inputs.new_ones(inputs.size())  # B x T\n",
    "        elif len(inputs.size()) == 3:\n",
    "            non_pad_mask = inputs.new_ones(inputs.size()[:-1])  # B x T\n",
    "        else:\n",
    "            raise ValueError(f\"Unsupported input shape {inputs.size()}\")\n",
    "\n",
    "        for i in range(batch_size):\n",
    "            non_pad_mask[i, input_lengths[i]:] = 0\n",
    "\n",
    "        return non_pad_mask"
   ],
   "metadata": {
    "collapsed": false,
    "ExecuteTime": {
     "end_time": "2023-06-03T07:18:46.142645300Z",
     "start_time": "2023-06-03T07:18:46.125100600Z"
    }
   }
  },
  {
   "cell_type": "code",
   "execution_count": 5,
   "outputs": [
    {
     "data": {
      "text/plain": "tensor([[[False, False, False,  True,  True],\n         [False, False, False,  True,  True],\n         [False, False, False,  True,  True],\n         [False, False, False,  True,  True],\n         [False, False, False,  True,  True]],\n\n        [[False, False, False, False,  True],\n         [False, False, False, False,  True],\n         [False, False, False, False,  True],\n         [False, False, False, False,  True],\n         [False, False, False, False,  True]]])"
     },
     "execution_count": 5,
     "metadata": {},
     "output_type": "execute_result"
    }
   ],
   "source": [
    "get_attn_pad_mask(torch.tensor([[1, 2, 3, 0, 0], [1, 2, 3, 4, 0]]), torch.tensor([3, 4]),5)"
   ],
   "metadata": {
    "collapsed": false,
    "ExecuteTime": {
     "end_time": "2023-06-03T07:18:46.182417Z",
     "start_time": "2023-06-03T07:18:46.138638300Z"
    }
   }
  },
  {
   "cell_type": "code",
   "execution_count": 6,
   "outputs": [
    {
     "data": {
      "text/plain": "tensor([[1, 1, 1, 0, 0],\n        [1, 1, 1, 1, 0]])"
     },
     "execution_count": 6,
     "metadata": {},
     "output_type": "execute_result"
    }
   ],
   "source": [
    "get_transformer_non_pad_mask(torch.tensor([[1, 2, 3, 0, 0], [1, 2, 3, 4, 0]]), torch.tensor([3, 4]))"
   ],
   "metadata": {
    "collapsed": false,
    "ExecuteTime": {
     "end_time": "2023-06-03T07:18:46.195475100Z",
     "start_time": "2023-06-03T07:18:46.154088100Z"
    }
   }
  },
  {
   "cell_type": "code",
   "execution_count": 11,
   "outputs": [
    {
     "data": {
      "text/plain": "tensor([[1, 2, 3, 4, 5, 6, 7, 8, 9],\n        [1, 2, 3, 4, 5, 6, 7, 8, 9],\n        [1, 2, 3, 4, 5, 6, 7, 8, 9]])"
     },
     "execution_count": 11,
     "metadata": {},
     "output_type": "execute_result"
    }
   ],
   "source": [
    "x = torch.tensor([[i for i in range(1,10)],[i for i in range(1,10)],[i for i in range(1,10)]])\n",
    "x"
   ],
   "metadata": {
    "collapsed": false,
    "ExecuteTime": {
     "end_time": "2023-06-03T08:12:15.441582300Z",
     "start_time": "2023-06-03T08:12:15.416585100Z"
    }
   }
  },
  {
   "cell_type": "code",
   "execution_count": 13,
   "outputs": [
    {
     "data": {
      "text/plain": "tensor([[2, 3, 4, 5, 6, 7, 8, 9],\n        [2, 3, 4, 5, 6, 7, 8, 9],\n        [2, 3, 4, 5, 6, 7, 8, 9]])"
     },
     "execution_count": 13,
     "metadata": {},
     "output_type": "execute_result"
    }
   ],
   "source": [
    "x[x != 1].view(3, -1)"
   ],
   "metadata": {
    "collapsed": false,
    "ExecuteTime": {
     "end_time": "2023-06-03T08:12:49.530776100Z",
     "start_time": "2023-06-03T08:12:49.514968200Z"
    }
   }
  },
  {
   "cell_type": "code",
   "execution_count": 18,
   "outputs": [
    {
     "data": {
      "text/plain": "tensor([[1, 2, 3, 0, 0],\n        [1, 2, 3, 4, 0]])"
     },
     "execution_count": 18,
     "metadata": {},
     "output_type": "execute_result"
    }
   ],
   "source": [
    "targets = torch.tensor([[1, 2, 3, 0, 0], [1, 2, 3, 4, 0]])\n",
    "target_lengths = torch.tensor([3, 4])\n",
    "targets"
   ],
   "metadata": {
    "collapsed": false,
    "ExecuteTime": {
     "end_time": "2023-06-03T08:15:58.885251900Z",
     "start_time": "2023-06-03T08:15:58.862697700Z"
    }
   }
  },
  {
   "cell_type": "code",
   "execution_count": 19,
   "outputs": [
    {
     "data": {
      "text/plain": "5"
     },
     "execution_count": 19,
     "metadata": {},
     "output_type": "execute_result"
    }
   ],
   "source": [
    "target_length = targets.size(1)\n",
    "target_length"
   ],
   "metadata": {
    "collapsed": false,
    "ExecuteTime": {
     "end_time": "2023-06-03T08:16:01.574305900Z",
     "start_time": "2023-06-03T08:16:01.552730900Z"
    }
   }
  },
  {
   "cell_type": "code",
   "execution_count": 21,
   "outputs": [],
   "source": [
    "decoder_inputs=targets\n",
    "decoder_input_lengths=target_lengths\n",
    "positional_encoding_length=target_length,"
   ],
   "metadata": {
    "collapsed": false,
    "ExecuteTime": {
     "end_time": "2023-06-03T08:16:41.549812200Z",
     "start_time": "2023-06-03T08:16:41.541815300Z"
    }
   }
  },
  {
   "cell_type": "code",
   "execution_count": 27,
   "outputs": [
    {
     "data": {
      "text/plain": "tensor([[[False, False, False,  True,  True],\n         [False, False, False,  True,  True],\n         [False, False, False,  True,  True],\n         [False, False, False,  True,  True],\n         [False, False, False,  True,  True]],\n\n        [[False, False, False, False,  True],\n         [False, False, False, False,  True],\n         [False, False, False, False,  True],\n         [False, False, False, False,  True],\n         [False, False, False, False,  True]]])"
     },
     "execution_count": 27,
     "metadata": {},
     "output_type": "execute_result"
    }
   ],
   "source": [
    "dec_self_attn_pad_mask = get_attn_pad_mask(decoder_inputs, decoder_input_lengths, decoder_inputs.size(1))\n",
    "dec_self_attn_pad_mask"
   ],
   "metadata": {
    "collapsed": false,
    "ExecuteTime": {
     "end_time": "2023-06-03T08:18:20.178034100Z",
     "start_time": "2023-06-03T08:18:20.130696900Z"
    }
   }
  },
  {
   "cell_type": "code",
   "execution_count": 26,
   "outputs": [
    {
     "data": {
      "text/plain": "tensor([[[0., 1., 1., 1., 1.],\n         [0., 0., 1., 1., 1.],\n         [0., 0., 0., 1., 1.],\n         [0., 0., 0., 0., 1.],\n         [0., 0., 0., 0., 0.]],\n\n        [[0., 1., 1., 1., 1.],\n         [0., 0., 1., 1., 1.],\n         [0., 0., 0., 1., 1.],\n         [0., 0., 0., 0., 1.],\n         [0., 0., 0., 0., 0.]]])"
     },
     "execution_count": 26,
     "metadata": {},
     "output_type": "execute_result"
    }
   ],
   "source": [
    "dec_self_attn_subsequent_mask = get_attn_subsequent_mask(decoder_inputs)\n",
    "dec_self_attn_subsequent_mask"
   ],
   "metadata": {
    "collapsed": false,
    "ExecuteTime": {
     "end_time": "2023-06-03T08:18:18.304314Z",
     "start_time": "2023-06-03T08:18:18.264306800Z"
    }
   }
  },
  {
   "cell_type": "code",
   "execution_count": 28,
   "outputs": [
    {
     "data": {
      "text/plain": "tensor([[[False,  True,  True,  True,  True],\n         [False, False,  True,  True,  True],\n         [False, False, False,  True,  True],\n         [False, False, False,  True,  True],\n         [False, False, False,  True,  True]],\n\n        [[False,  True,  True,  True,  True],\n         [False, False,  True,  True,  True],\n         [False, False, False,  True,  True],\n         [False, False, False, False,  True],\n         [False, False, False, False,  True]]])"
     },
     "execution_count": 28,
     "metadata": {},
     "output_type": "execute_result"
    }
   ],
   "source": [
    "self_attn_mask = torch.gt((dec_self_attn_pad_mask + dec_self_attn_subsequent_mask), 0)\n",
    "self_attn_mask"
   ],
   "metadata": {
    "collapsed": false,
    "ExecuteTime": {
     "end_time": "2023-06-03T08:18:54.622637500Z",
     "start_time": "2023-06-03T08:18:54.581003700Z"
    }
   }
  },
  {
   "cell_type": "code",
   "execution_count": null,
   "outputs": [],
   "source": [],
   "metadata": {
    "collapsed": false
   }
  }
 ],
 "metadata": {
  "kernelspec": {
   "display_name": "Python 3",
   "language": "python",
   "name": "python3"
  },
  "language_info": {
   "codemirror_mode": {
    "name": "ipython",
    "version": 2
   },
   "file_extension": ".py",
   "mimetype": "text/x-python",
   "name": "python",
   "nbconvert_exporter": "python",
   "pygments_lexer": "ipython2",
   "version": "2.7.6"
  }
 },
 "nbformat": 4,
 "nbformat_minor": 0
}
