{
 "cells": [
  {
   "cell_type": "code",
   "execution_count": null,
   "metadata": {
    "collapsed": true
   },
   "outputs": [],
   "source": [
    "import wave\n",
    "import struct\n",
    "import librosa\n",
    "import numpy as np\n",
    "\n",
    "path = 'E:/datasets/data_thchs30/data/A2_0.wav'"
   ]
  },
  {
   "cell_type": "code",
   "execution_count": null,
   "outputs": [],
   "source": [
    "wave_file = wave.open(path, 'r')\n",
    "channels = wave_file.getnchannels()  #声道数\n",
    "samp_width = wave_file.getsampwidth()  #采样大小\n",
    "frame_rate = wave_file.getframerate()  #帧率\n",
    "numframes = wave_file.getnframes()  #总帧数\n",
    "\n",
    "print(\"channel\", channels)  #声道数\n",
    "print('samp_width', samp_width)  #采样大小2B 16bit\n",
    "print('frame_rate', frame_rate)  #8000 帧率8000fps\n",
    "print('numframes', numframes)  #总帧数=帧率*时间=8000fps*10s=80000f\n",
    "\n",
    "for i in range(500):\n",
    "    frame = wave_file.readframes(1)  #读取1帧音频数据，可能包含多个声道信息\n",
    "    print(frame,struct.unpack(\"h\", frame[0:2])[0])\n",
    "    #struct.unpack(\"h\",frame[0:2])将二进制数据转化成10进制（16bit有符号整数）因为这里采样大小是16bit\n",
    "wave_file.close()"
   ],
   "metadata": {
    "collapsed": false
   }
  },
  {
   "cell_type": "code",
   "execution_count": null,
   "outputs": [],
   "source": [
    "with open(path, 'rb') as f:\n",
    "    frames = f.read()\n",
    "    print(frames[44:])"
   ],
   "metadata": {
    "collapsed": false
   }
  },
  {
   "cell_type": "code",
   "execution_count": 10,
   "outputs": [],
   "source": [
    "import array\n",
    "\n",
    "\n",
    "def read_pcm16(data: bytes):\n",
    "    \"\"\"\n",
    "    convert bytes into array of pcm_s16le data\n",
    "    :param data: PCM format bytes\n",
    "    :return:\n",
    "    \"\"\"\n",
    "    shortArray = array.array('h')  # int16\n",
    "    # header of wav file\n",
    "    info = data[:44]\n",
    "    frames = data[44:]\n",
    "    name, data_lengths, _, _, _, _, channels, sample_rate, bit_rate, block_length, sample_bit, _, pcm_length = struct.unpack_from(\n",
    "        '<4sL4s4sLHHLLHH4sL', info)\n",
    "    # shortArray each element is 16bit\n",
    "    shortArray.frombytes(frames)  # struct.unpack\n",
    "    data = np.array(shortArray)\n",
    "    # 缩放\n",
    "    data = data / 2 ** 15\n",
    "    return data, sample_rate"
   ],
   "metadata": {
    "collapsed": false,
    "ExecuteTime": {
     "end_time": "2023-06-05T05:27:02.234206300Z",
     "start_time": "2023-06-05T05:27:02.200770400Z"
    }
   }
  },
  {
   "cell_type": "code",
   "execution_count": 11,
   "outputs": [],
   "source": [
    "data, sample_rate = read_pcm16(frames)"
   ],
   "metadata": {
    "collapsed": false,
    "ExecuteTime": {
     "end_time": "2023-06-05T05:27:03.948963500Z",
     "start_time": "2023-06-05T05:27:03.935962800Z"
    }
   }
  },
  {
   "cell_type": "code",
   "execution_count": 16,
   "outputs": [
    {
     "data": {
      "text/plain": "(157000,\n array([-0.0090332 , -0.01293945, -0.01196289, ..., -0.01202393,\n        -0.01156616, -0.01190186]),\n array([-296., -424., -392., ..., -394., -379., -390.]))"
     },
     "execution_count": 16,
     "metadata": {},
     "output_type": "execute_result"
    }
   ],
   "source": [
    "len(data), data, data * (2 ** 15)"
   ],
   "metadata": {
    "collapsed": false,
    "ExecuteTime": {
     "end_time": "2023-06-05T05:28:17.061987200Z",
     "start_time": "2023-06-05T05:28:17.037986700Z"
    }
   }
  },
  {
   "cell_type": "code",
   "execution_count": null,
   "outputs": [],
   "source": [
    "data * (1 << 15), max(data * (1 << 15))"
   ],
   "metadata": {
    "collapsed": false
   }
  },
  {
   "cell_type": "code",
   "execution_count": 15,
   "outputs": [
    {
     "data": {
      "text/plain": "(array([-0.0090332 , -0.01293945, -0.01196289, ..., -0.01202393,\n        -0.01156616, -0.01190186], dtype=float32),\n 16000)"
     },
     "execution_count": 15,
     "metadata": {},
     "output_type": "execute_result"
    }
   ],
   "source": [
    "librosa.load(path, sr=16000)"
   ],
   "metadata": {
    "collapsed": false,
    "ExecuteTime": {
     "end_time": "2023-06-05T05:27:28.334880100Z",
     "start_time": "2023-06-05T05:27:28.312882200Z"
    }
   }
  },
  {
   "cell_type": "code",
   "execution_count": 29,
   "outputs": [],
   "source": [
    "s = \"我 是 中 国 人\"\n",
    "b = s.encode('utf-8')"
   ],
   "metadata": {
    "collapsed": false,
    "ExecuteTime": {
     "end_time": "2023-06-05T05:58:03.656896400Z",
     "start_time": "2023-06-05T05:58:03.641909700Z"
    }
   }
  },
  {
   "cell_type": "code",
   "execution_count": 22,
   "outputs": [
    {
     "ename": "error",
     "evalue": "unpack requires a buffer of 2 bytes",
     "output_type": "error",
     "traceback": [
      "\u001B[1;31m---------------------------------------------------------------------------\u001B[0m",
      "\u001B[1;31merror\u001B[0m                                     Traceback (most recent call last)",
      "Cell \u001B[1;32mIn[22], line 1\u001B[0m\n\u001B[1;32m----> 1\u001B[0m \u001B[43mstruct\u001B[49m\u001B[38;5;241;43m.\u001B[39;49m\u001B[43munpack\u001B[49m\u001B[43m(\u001B[49m\u001B[38;5;124;43m\"\u001B[39;49m\u001B[38;5;124;43mh\u001B[39;49m\u001B[38;5;124;43m\"\u001B[39;49m\u001B[43m,\u001B[49m\u001B[43m \u001B[49m\u001B[43ms\u001B[49m\u001B[38;5;241;43m.\u001B[39;49m\u001B[43mencode\u001B[49m\u001B[43m(\u001B[49m\u001B[38;5;124;43m'\u001B[39;49m\u001B[38;5;124;43mutf-8\u001B[39;49m\u001B[38;5;124;43m'\u001B[39;49m\u001B[43m)\u001B[49m\u001B[43m[\u001B[49m\u001B[43m:\u001B[49m\u001B[38;5;241;43m3\u001B[39;49m\u001B[43m]\u001B[49m\u001B[43m)\u001B[49m\n",
      "\u001B[1;31merror\u001B[0m: unpack requires a buffer of 2 bytes"
     ]
    }
   ],
   "source": [
    "struct.unpack(\"h\", s.encode('utf-8')[:3])"
   ],
   "metadata": {
    "collapsed": false,
    "ExecuteTime": {
     "end_time": "2023-06-05T05:41:07.258316900Z",
     "start_time": "2023-06-05T05:41:07.231314400Z"
    }
   }
  },
  {
   "cell_type": "code",
   "execution_count": 25,
   "outputs": [
    {
     "ename": "ValueError",
     "evalue": "bytes length not a multiple of item size",
     "output_type": "error",
     "traceback": [
      "\u001B[1;31m---------------------------------------------------------------------------\u001B[0m",
      "\u001B[1;31mValueError\u001B[0m                                Traceback (most recent call last)",
      "Cell \u001B[1;32mIn[25], line 2\u001B[0m\n\u001B[0;32m      1\u001B[0m shortArray \u001B[38;5;241m=\u001B[39m array\u001B[38;5;241m.\u001B[39marray(\u001B[38;5;124m'\u001B[39m\u001B[38;5;124mh\u001B[39m\u001B[38;5;124m'\u001B[39m)\n\u001B[1;32m----> 2\u001B[0m \u001B[43mshortArray\u001B[49m\u001B[38;5;241;43m.\u001B[39;49m\u001B[43mfrombytes\u001B[49m\u001B[43m(\u001B[49m\u001B[43mb\u001B[49m\u001B[43m)\u001B[49m\n",
      "\u001B[1;31mValueError\u001B[0m: bytes length not a multiple of item size"
     ]
    }
   ],
   "source": [
    "shortArray = array.array('h')\n",
    "shortArray.frombytes(b)"
   ],
   "metadata": {
    "collapsed": false,
    "ExecuteTime": {
     "end_time": "2023-06-05T05:44:28.918395Z",
     "start_time": "2023-06-05T05:44:28.889290600Z"
    }
   }
  },
  {
   "cell_type": "code",
   "execution_count": 30,
   "outputs": [
    {
     "data": {
      "text/plain": "b'\\xe6\\x88\\x91 \\xe6\\x98\\xaf \\xe4\\xb8\\xad \\xe5\\x9b\\xbd \\xe4\\xba\\xba'"
     },
     "execution_count": 30,
     "metadata": {},
     "output_type": "execute_result"
    }
   ],
   "source": [
    "b"
   ],
   "metadata": {
    "collapsed": false,
    "ExecuteTime": {
     "end_time": "2023-06-05T05:58:06.257865Z",
     "start_time": "2023-06-05T05:58:06.236867400Z"
    }
   }
  },
  {
   "cell_type": "code",
   "execution_count": 31,
   "outputs": [
    {
     "data": {
      "text/plain": "5141068051224587196122899090252126564875811514"
     },
     "execution_count": 31,
     "metadata": {},
     "output_type": "execute_result"
    }
   ],
   "source": [
    "int.from_bytes(b, byteorder='big')"
   ],
   "metadata": {
    "collapsed": false,
    "ExecuteTime": {
     "end_time": "2023-06-05T05:58:08.357128100Z",
     "start_time": "2023-06-05T05:58:08.343112200Z"
    }
   }
  },
  {
   "cell_type": "code",
   "execution_count": 33,
   "outputs": [
    {
     "data": {
      "text/plain": "9537766"
     },
     "execution_count": 33,
     "metadata": {},
     "output_type": "execute_result"
    }
   ],
   "source": [
    "int.from_bytes(b[0:3], byteorder='little')"
   ],
   "metadata": {
    "collapsed": false,
    "ExecuteTime": {
     "end_time": "2023-06-05T05:58:23.564724700Z",
     "start_time": "2023-06-05T05:58:23.552725700Z"
    }
   }
  },
  {
   "cell_type": "code",
   "execution_count": 34,
   "outputs": [
    {
     "data": {
      "text/plain": "314044"
     },
     "execution_count": 34,
     "metadata": {},
     "output_type": "execute_result"
    }
   ],
   "source": [
    "len(frames)"
   ],
   "metadata": {
    "collapsed": false,
    "ExecuteTime": {
     "end_time": "2023-06-05T06:03:00.182667900Z",
     "start_time": "2023-06-05T06:03:00.166167400Z"
    }
   }
  },
  {
   "cell_type": "code",
   "execution_count": null,
   "outputs": [],
   "source": [],
   "metadata": {
    "collapsed": false
   }
  }
 ],
 "metadata": {
  "kernelspec": {
   "display_name": "Python 3",
   "language": "python",
   "name": "python3"
  },
  "language_info": {
   "codemirror_mode": {
    "name": "ipython",
    "version": 2
   },
   "file_extension": ".py",
   "mimetype": "text/x-python",
   "name": "python",
   "nbconvert_exporter": "python",
   "pygments_lexer": "ipython2",
   "version": "2.7.6"
  }
 },
 "nbformat": 4,
 "nbformat_minor": 0
}
